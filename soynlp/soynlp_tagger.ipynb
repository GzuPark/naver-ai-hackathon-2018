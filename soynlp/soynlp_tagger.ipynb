{
 "cells": [
  {
   "cell_type": "code",
   "execution_count": 1,
   "metadata": {},
   "outputs": [
    {
     "name": "stdout",
     "output_type": "stream",
     "text": [
      "0.0.41\n"
     ]
    }
   ],
   "source": [
    "import sys\n",
    "sys.path.append('../')\n",
    "import soynlp\n",
    "\n",
    "print(soynlp.__version__)"
   ]
  },
  {
   "cell_type": "code",
   "execution_count": 2,
   "metadata": {},
   "outputs": [
    {
     "name": "stdout",
     "output_type": "stream",
     "text": [
      "{'Adjective': '형용사',\n",
      " 'Adverb': '부사',\n",
      " 'Determiner': '관형사',\n",
      " 'Exclamation': '감탄사',\n",
      " 'Josa': '조사',\n",
      " 'Noun': '명사',\n",
      " 'Numeral': '수사',\n",
      " 'Pronoun': '대명사',\n",
      " 'Symbol': '기호',\n",
      " 'Verb': '동사'}\n"
     ]
    }
   ],
   "source": [
    "from soynlp.pos.tagset import tagset\n",
    "from pprint import pprint\n",
    "pprint(tagset)"
   ]
  },
  {
   "cell_type": "code",
   "execution_count": 3,
   "metadata": {
    "collapsed": true
   },
   "outputs": [],
   "source": [
    "from soynlp.pos import Dictionary\n",
    "from soynlp.pos import LRTemplateMatcher\n",
    "from soynlp.pos import LREvaluator\n",
    "from soynlp.pos import SimpleTagger\n",
    "from soynlp.pos import UnknowLRPostprocessor\n",
    "\n",
    "pos_dict = {\n",
    "    'Adverb': {'너무', '매우'}, \n",
    "    'Noun': {'너무너무너무', '아이오아이', '아이', '노래', '오', '이', '고양'},\n",
    "    'Josa': {'는', '의', '이다', '입니다', '이', '이는', '를', '라', '라는'},\n",
    "    'Verb': {'하는', '하다', '하고'},\n",
    "    'Adjective': {'예쁜', '예쁘다'},\n",
    "    'Exclamation': {'우와'}    \n",
    "}\n",
    "\n",
    "dictionary = Dictionary(pos_dict)"
   ]
  },
  {
   "cell_type": "code",
   "execution_count": 4,
   "metadata": {},
   "outputs": [
    {
     "data": {
      "text/plain": [
       "{'Adjective': {'예쁘다', '예쁜'},\n",
       " 'Adverb': {'너무', '매우'},\n",
       " 'Exclamation': {'우와'},\n",
       " 'Josa': {'는', '라', '라는', '를', '의', '이', '이는', '이다', '입니다'},\n",
       " 'Noun': {'고양', '너무너무너무', '노래', '아이', '아이오아이', '오', '이'},\n",
       " 'Verb': {'하고', '하는', '하다'}}"
      ]
     },
     "execution_count": 4,
     "metadata": {},
     "output_type": "execute_result"
    }
   ],
   "source": [
    "dictionary.pos_dict"
   ]
  },
  {
   "cell_type": "code",
   "execution_count": 5,
   "metadata": {},
   "outputs": [
    {
     "name": "stdout",
     "output_type": "stream",
     "text": [
      "['Noun']\n",
      "['Noun', 'Josa']\n"
     ]
    }
   ],
   "source": [
    "print(dictionary.get_pos('아이오아이'))\n",
    "print(dictionary.get_pos('이'))"
   ]
  },
  {
   "cell_type": "code",
   "execution_count": 6,
   "metadata": {},
   "outputs": [
    {
     "name": "stdout",
     "output_type": "stream",
     "text": [
      "True\n",
      "False\n",
      "False\n"
     ]
    }
   ],
   "source": [
    "print(dictionary.word_is_tag('아이오아이', 'Noun'))\n",
    "print(dictionary.word_is_tag('아이오아이', '명사'))\n",
    "print(dictionary.word_is_tag('아이오아이', 'Josa'))"
   ]
  },
  {
   "cell_type": "code",
   "execution_count": 7,
   "metadata": {},
   "outputs": [
    {
     "name": "stdout",
     "output_type": "stream",
     "text": [
      "# Add a word with a tag\n",
      "{'Adjective': {'예쁜', '예쁘다'},\n",
      " 'Adverb': {'너무', '매우'},\n",
      " 'Exclamation': {'우와'},\n",
      " 'Josa': {'입니다', '는', '이', '라는', '라', '를', '의', '이다', '이는'},\n",
      " 'Noun': {'아이', '고양', '이', '아이오아이', '너무너무너무', '오', '노래', '앙순이'},\n",
      " 'Verb': {'하는', '하고', '하다'}}\n",
      "\n",
      "# Add words with a tag\n",
      "{'Adjective': {'예쁜', '예쁘다'},\n",
      " 'Adverb': {'너무', '매우'},\n",
      " 'Exclamation': {'우와'},\n",
      " 'Josa': {'입니다', '는', '이', '라는', '라', '를', '의', '이다', '이는'},\n",
      " 'Noun': {'아이', '아이돌', '고양', '이', '아이오아이', '너무너무너무', '워너원', '오', '노래', '앙순이'},\n",
      " 'Verb': {'하는', '하고', '하다'}}\n"
     ]
    }
   ],
   "source": [
    "print('# Add a word with a tag')\n",
    "dictionary.add_words('Noun', '앙순이')\n",
    "pprint(dictionary.pos_dict)\n",
    "\n",
    "print('\\n# Add words with a tag')\n",
    "dictionary.add_words('Noun', ['워너원', '아이돌'])\n",
    "pprint(dictionary.pos_dict)"
   ]
  },
  {
   "cell_type": "code",
   "execution_count": 8,
   "metadata": {},
   "outputs": [
    {
     "ename": "ValueError",
     "evalue": "Check your tag or use add_words(tag, words, force=True)",
     "output_type": "error",
     "traceback": [
      "\u001b[0;31m---------------------------------------------------------------------------\u001b[0m",
      "\u001b[0;31mValueError\u001b[0m                                Traceback (most recent call last)",
      "\u001b[0;32m<ipython-input-8-390d988def8b>\u001b[0m in \u001b[0;36m<module>\u001b[0;34m()\u001b[0m\n\u001b[0;32m----> 1\u001b[0;31m \u001b[0mdictionary\u001b[0m\u001b[0;34m.\u001b[0m\u001b[0madd_words\u001b[0m\u001b[0;34m(\u001b[0m\u001b[0;34m'Name'\u001b[0m\u001b[0;34m,\u001b[0m \u001b[0;34m'gzupark'\u001b[0m\u001b[0;34m)\u001b[0m\u001b[0;34m\u001b[0m\u001b[0m\n\u001b[0m",
      "\u001b[0;32m/usr/local/lib/python3.5/dist-packages/soynlp/pos/_dictionary.py\u001b[0m in \u001b[0;36madd_words\u001b[0;34m(self, tag, words, force)\u001b[0m\n\u001b[1;32m     31\u001b[0m         \u001b[0;32mif\u001b[0m \u001b[0;32mnot\u001b[0m \u001b[0mforce\u001b[0m \u001b[0;32mand\u001b[0m \u001b[0;32mnot\u001b[0m \u001b[0;34m(\u001b[0m\u001b[0mtag\u001b[0m \u001b[0;32min\u001b[0m \u001b[0mself\u001b[0m\u001b[0;34m.\u001b[0m\u001b[0mpos_dict\u001b[0m\u001b[0;34m)\u001b[0m\u001b[0;34m:\u001b[0m\u001b[0;34m\u001b[0m\u001b[0m\n\u001b[1;32m     32\u001b[0m             \u001b[0mmessage\u001b[0m \u001b[0;34m=\u001b[0m \u001b[0;34m'Check your tag or use add_words(tag, words, force=True)'\u001b[0m\u001b[0;34m.\u001b[0m\u001b[0mformat\u001b[0m\u001b[0;34m(\u001b[0m\u001b[0mtag\u001b[0m\u001b[0;34m)\u001b[0m\u001b[0;34m\u001b[0m\u001b[0m\n\u001b[0;32m---> 33\u001b[0;31m             \u001b[0;32mraise\u001b[0m \u001b[0mValueError\u001b[0m\u001b[0;34m(\u001b[0m\u001b[0mmessage\u001b[0m\u001b[0;34m)\u001b[0m\u001b[0;34m\u001b[0m\u001b[0m\n\u001b[0m\u001b[1;32m     34\u001b[0m \u001b[0;34m\u001b[0m\u001b[0m\n\u001b[1;32m     35\u001b[0m         \u001b[0mmax_length\u001b[0m \u001b[0;34m=\u001b[0m \u001b[0mmax\u001b[0m\u001b[0;34m(\u001b[0m\u001b[0;34m(\u001b[0m\u001b[0mlen\u001b[0m\u001b[0;34m(\u001b[0m\u001b[0mword\u001b[0m\u001b[0;34m)\u001b[0m \u001b[0;32mfor\u001b[0m \u001b[0mword\u001b[0m \u001b[0;32min\u001b[0m \u001b[0mwords\u001b[0m\u001b[0;34m)\u001b[0m\u001b[0;34m)\u001b[0m\u001b[0;34m\u001b[0m\u001b[0m\n",
      "\u001b[0;31mValueError\u001b[0m: Check your tag or use add_words(tag, words, force=True)"
     ]
    }
   ],
   "source": [
    "# 등록되어 있지 않은 품사태그 Name 의 경우 입력이 안됨, 오탈자 방지\n",
    "dictionary.add_words('Name', 'gzupark')"
   ]
  },
  {
   "cell_type": "code",
   "execution_count": 9,
   "metadata": {},
   "outputs": [
    {
     "name": "stdout",
     "output_type": "stream",
     "text": [
      "{'Adjective': {'예쁜', '예쁘다'},\n",
      " 'Adverb': {'너무', '매우'},\n",
      " 'Exclamation': {'우와'},\n",
      " 'Josa': {'입니다', '는', '이', '라는', '라', '를', '의', '이다', '이는'},\n",
      " 'Name': {'gzupark'},\n",
      " 'Noun': {'아이', '아이돌', '고양', '이', '아이오아이', '너무너무너무', '워너원', '오', '노래', '앙순이'},\n",
      " 'Verb': {'하는', '하고', '하다'}}\n"
     ]
    }
   ],
   "source": [
    "# 필요한 품사태그라면 강제로 입력 가능\n",
    "dictionary.add_words('Name', 'gzupark', force=True)\n",
    "pprint(dictionary.pos_dict)"
   ]
  },
  {
   "cell_type": "code",
   "execution_count": 11,
   "metadata": {},
   "outputs": [
    {
     "name": "stdout",
     "output_type": "stream",
     "text": [
      "{'Adjective': {'예쁜', '예쁘다'},\n",
      " 'Adverb': {'너무', '매우'},\n",
      " 'Exclamation': {'우와'},\n",
      " 'Josa': {'입니다', '는', '이', '라는', '라', '를', '의', '이다', '이는'},\n",
      " 'Name': {'gzupark'},\n",
      " 'Noun': {'아이', '아이돌', '고양', '이', '아이오아이', '너무너무너무', '워너원', '오', '노래', '앙순이'},\n",
      " 'Verb': {'하는', '하고', '하다'},\n",
      " '명사': {'아이오아이'}}\n"
     ]
    }
   ],
   "source": [
    "dictionary.add_words('명사', '아이오아이', force=True)\n",
    "pprint(dictionary.pos_dict)"
   ]
  },
  {
   "cell_type": "code",
   "execution_count": 12,
   "metadata": {},
   "outputs": [
    {
     "name": "stdout",
     "output_type": "stream",
     "text": [
      "True\n",
      "True\n",
      "False\n"
     ]
    }
   ],
   "source": [
    "print(dictionary.word_is_tag('아이오아이', 'Noun'))\n",
    "print(dictionary.word_is_tag('아이오아이', '명사'))\n",
    "print(dictionary.word_is_tag('아이오아이', 'Josa'))"
   ]
  },
  {
   "cell_type": "code",
   "execution_count": 14,
   "metadata": {},
   "outputs": [
    {
     "name": "stdout",
     "output_type": "stream",
     "text": [
      "False\n"
     ]
    }
   ],
   "source": [
    "print(dictionary.word_is_tag('대통령', 'Noun'))"
   ]
  },
  {
   "cell_type": "code",
   "execution_count": 15,
   "metadata": {},
   "outputs": [
    {
     "name": "stdout",
     "output_type": "stream",
     "text": [
      "{'Adjective': {'예쁜', '예쁘다'},\n",
      " 'Adverb': {'너무', '매우'},\n",
      " 'Exclamation': {'우와'},\n",
      " 'Josa': {'입니다', '는', '이', '라는', '라', '를', '의', '이다', '이는'},\n",
      " 'Name': {'gzupark'},\n",
      " 'Noun': {'아이', '아이돌', '고양', '이', '아이오아이', '너무너무너무', '오', '노래'},\n",
      " 'Verb': {'하는', '하고', '하다'},\n",
      " '명사': {'아이오아이'}}\n"
     ]
    }
   ],
   "source": [
    "dictionary.remove_words('Noun', {'앙순이', '워너원'} )\n",
    "pprint(dictionary.pos_dict)"
   ]
  },
  {
   "cell_type": "code",
   "execution_count": 16,
   "metadata": {},
   "outputs": [
    {
     "name": "stdout",
     "output_type": "stream",
     "text": [
      "{'Adjective': {'예쁜', '예쁘다'},\n",
      " 'Adverb': {'너무', '매우'},\n",
      " 'Exclamation': {'우와'},\n",
      " 'Josa': {'입니다', '는', '이', '라는', '라', '를', '의', '이다', '이는'},\n",
      " 'Name': {'gzupark'},\n",
      " 'Verb': {'하는', '하고', '하다'},\n",
      " '명사': {'아이오아이'}}\n"
     ]
    }
   ],
   "source": [
    "dictionary.remove_words('Noun')\n",
    "pprint(dictionary.pos_dict)"
   ]
  },
  {
   "cell_type": "code",
   "execution_count": 17,
   "metadata": {},
   "outputs": [
    {
     "name": "stdout",
     "output_type": "stream",
     "text": [
      "[LR(l='너무너무너무', l_tag='Noun', r='는', r_tag='Josa', b=0, m=6, e=7),\n",
      " LR(l='너무', l_tag='Adverb', r='', r_tag=None, b=0, m=2, e=2),\n",
      " LR(l='너무너무너무', l_tag='Noun', r='', r_tag=None, b=0, m=6, e=6),\n",
      " LR(l='너무', l_tag='Adverb', r='', r_tag=None, b=2, m=4, e=4),\n",
      " LR(l='너무', l_tag='Adverb', r='', r_tag=None, b=4, m=6, e=6),\n",
      " LR(l='아이오아이', l_tag='Noun', r='의', r_tag='Josa', b=7, m=12, e=13),\n",
      " LR(l='아이오아이', l_tag='Noun', r='', r_tag=None, b=7, m=12, e=12),\n",
      " LR(l='노래', l_tag='Noun', r='입니다', r_tag='Josa', b=13, m=15, e=18),\n",
      " LR(l='노래', l_tag='Noun', r='', r_tag=None, b=13, m=15, e=15)]\n"
     ]
    }
   ],
   "source": [
    "sent = '너무너무너무는아이오아이의노래입니다!!'\n",
    "\n",
    "pos_dict = {\n",
    "    'Adverb': {'너무', '매우'}, \n",
    "    'Noun': {'너무너무너무', '아이오아이', '아이', '노래', '오', '이', '고양'},\n",
    "    'Josa': {'는', '의', '이다', '입니다', '이', '이는', '를', '라', '라는'},\n",
    "    'Verb': {'하는', '하다', '하고'},\n",
    "    'Adjective': {'예쁜', '예쁘다'},\n",
    "    'Exclamation': {'우와'}    \n",
    "}\n",
    "\n",
    "dictionary = Dictionary(pos_dict)\n",
    "generator = LRTemplateMatcher(dictionary)\n",
    "pprint(generator.generate(sent))"
   ]
  },
  {
   "cell_type": "code",
   "execution_count": 18,
   "metadata": {},
   "outputs": [
    {
     "data": {
      "text/plain": [
       "LR(l='너무너무너무', l_tag='Noun', r='는', r_tag='Josa', b=0, m=6, e=7)"
      ]
     },
     "execution_count": 18,
     "metadata": {},
     "output_type": "execute_result"
    }
   ],
   "source": [
    "generator.generate(sent)[0]"
   ]
  },
  {
   "cell_type": "code",
   "execution_count": 19,
   "metadata": {},
   "outputs": [
    {
     "data": {
      "text/plain": [
       "{'Noun': ('Josa', 'Verb', 'Adjective')}"
      ]
     },
     "execution_count": 19,
     "metadata": {},
     "output_type": "execute_result"
    }
   ],
   "source": [
    "generator.templates"
   ]
  },
  {
   "cell_type": "code",
   "execution_count": 21,
   "metadata": {},
   "outputs": [
    {
     "data": {
      "text/plain": [
       "[('너무너무너무', 'Noun'),\n",
       " ('는', 'Josa'),\n",
       " ('아이오아이', 'Noun'),\n",
       " ('의', 'Josa'),\n",
       " ('노래', 'Noun'),\n",
       " ('입니다', 'Josa'),\n",
       " ('!!', None)]"
      ]
     },
     "execution_count": 21,
     "metadata": {},
     "output_type": "execute_result"
    }
   ],
   "source": [
    "evaluator = LREvaluator()\n",
    "postprocessor = UnknowLRPostprocessor()\n",
    "\n",
    "tagger = SimpleTagger(generator, evaluator, postprocessor)\n",
    "tagger.tag(sent)"
   ]
  },
  {
   "cell_type": "code",
   "execution_count": 22,
   "metadata": {},
   "outputs": [
    {
     "data": {
      "text/plain": [
       "[('너무너무너무', 'Noun'),\n",
       " ('는', 'Josa'),\n",
       " ('아이오아이', 'Noun'),\n",
       " ('의', 'Josa'),\n",
       " ('노래', 'Noun'),\n",
       " ('입니다', 'Josa')]"
      ]
     },
     "execution_count": 22,
     "metadata": {},
     "output_type": "execute_result"
    }
   ],
   "source": [
    "SimpleTagger(generator, evaluator).tag(sent)"
   ]
  },
  {
   "cell_type": "code",
   "execution_count": 23,
   "metadata": {
    "collapsed": true
   },
   "outputs": [],
   "source": [
    "tags, debugs = tagger.tag(sent, debug=True)"
   ]
  },
  {
   "cell_type": "code",
   "execution_count": 24,
   "metadata": {},
   "outputs": [
    {
     "name": "stdout",
     "output_type": "stream",
     "text": [
      "[('너무너무너무', 'Noun'),\n",
      " ('는', 'Josa'),\n",
      " ('아이오아이', 'Noun'),\n",
      " ('의', 'Josa'),\n",
      " ('노래', 'Noun'),\n",
      " ('입니다', 'Josa'),\n",
      " ('!!', None)]\n"
     ]
    }
   ],
   "source": [
    "pprint(tags)"
   ]
  },
  {
   "cell_type": "code",
   "execution_count": 25,
   "metadata": {},
   "outputs": [
    {
     "name": "stdout",
     "output_type": "stream",
     "text": [
      "[[(LR(l='너무', l_tag='Adverb', r='', r_tag=None, b=0, m=2, e=2), 0.4),\n",
      "  (LR(l='너무너무너무', l_tag='Noun', r='', r_tag=None, b=0, m=6, e=6),\n",
      "   0.9000000000000001),\n",
      "  (LR(l='너무너무너무', l_tag='Noun', r='는', r_tag='Josa', b=0, m=6, e=7),\n",
      "   1.1500000000000001),\n",
      "  (LR(l='너무', l_tag='Adverb', r='', r_tag=None, b=2, m=4, e=4), 0.4),\n",
      "  (LR(l='너무', l_tag='Adverb', r='', r_tag=None, b=4, m=6, e=6), 0.4),\n",
      "  (LR(l='아이오아이', l_tag='Noun', r='', r_tag=None, b=7, m=12, e=12), 0.8),\n",
      "  (LR(l='아이오아이', l_tag='Noun', r='의', r_tag='Josa', b=7, m=12, e=13), 1.05),\n",
      "  (LR(l='노래', l_tag='Noun', r='', r_tag=None, b=13, m=15, e=15), 0.5),\n",
      "  (LR(l='노래', l_tag='Noun', r='입니다', r_tag='Josa', b=13, m=15, e=18), 0.95)]]\n"
     ]
    }
   ],
   "source": [
    "pprint(debugs)"
   ]
  },
  {
   "cell_type": "code",
   "execution_count": 26,
   "metadata": {},
   "outputs": [
    {
     "name": "stdout",
     "output_type": "stream",
     "text": [
      "[[(LR(l='너무', l_tag='Adverb', r='', r_tag=None, b=0, m=2, e=2), 0.4),\n",
      "  (LR(l='너무너무너무', l_tag='Noun', r='', r_tag=None, b=0, m=6, e=6), 5.9),\n",
      "  (LR(l='너무너무너무', l_tag='Noun', r='는', r_tag='Josa', b=0, m=6, e=7), 6.15),\n",
      "  (LR(l='너무', l_tag='Adverb', r='', r_tag=None, b=2, m=4, e=4), 0.4),\n",
      "  (LR(l='너무', l_tag='Adverb', r='', r_tag=None, b=4, m=6, e=6), 0.4),\n",
      "  (LR(l='아이오아이', l_tag='Noun', r='', r_tag=None, b=7, m=12, e=12), 10.8),\n",
      "  (LR(l='아이오아이', l_tag='Noun', r='의', r_tag='Josa', b=7, m=12, e=13), 11.05),\n",
      "  (LR(l='노래', l_tag='Noun', r='', r_tag=None, b=13, m=15, e=15), 0.5),\n",
      "  (LR(l='노래', l_tag='Noun', r='입니다', r_tag='Josa', b=13, m=15, e=18), 0.95)]]\n"
     ]
    }
   ],
   "source": [
    "preference = {\n",
    "    'Noun': {'아이오아이':10.0, '너무너무너무':5}\n",
    "}\n",
    "\n",
    "evaluator = LREvaluator(preference=preference)\n",
    "tagger = SimpleTagger(generator, evaluator, postprocessor)\n",
    "tags, debugs = tagger.tag(sent, debug=True)\n",
    "\n",
    "pprint(debugs)"
   ]
  },
  {
   "cell_type": "code",
   "execution_count": null,
   "metadata": {
    "collapsed": true
   },
   "outputs": [],
   "source": []
  }
 ],
 "metadata": {
  "kernelspec": {
   "display_name": "Python 3",
   "language": "python",
   "name": "python3"
  },
  "language_info": {
   "codemirror_mode": {
    "name": "ipython",
    "version": 3
   },
   "file_extension": ".py",
   "mimetype": "text/x-python",
   "name": "python",
   "nbconvert_exporter": "python",
   "pygments_lexer": "ipython3",
   "version": "3.5.2"
  }
 },
 "nbformat": 4,
 "nbformat_minor": 2
}
