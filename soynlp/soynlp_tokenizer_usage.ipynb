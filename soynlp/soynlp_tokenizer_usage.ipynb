{
 "cells": [
  {
   "cell_type": "code",
   "execution_count": 4,
   "metadata": {
    "collapsed": true
   },
   "outputs": [],
   "source": [
    "from pprint import pprint\n",
    "import sys\n",
    "sys.path.append('../')\n",
    "\n",
    "from soynlp.tokenizer import RegexTokenizer, LTokenizer, MaxScoreTokenizer"
   ]
  },
  {
   "cell_type": "markdown",
   "metadata": {},
   "source": [
    "### MaxScoreTokenizer"
   ]
  },
  {
   "cell_type": "code",
   "execution_count": 5,
   "metadata": {},
   "outputs": [
    {
     "data": {
      "text/plain": [
       "['파스타', '가', '좋아', '요']"
      ]
     },
     "execution_count": 5,
     "metadata": {},
     "output_type": "execute_result"
    }
   ],
   "source": [
    "scores = {'파스': 0.3, '파스타': 0.7, '좋아요':0.2, '좋아':0.5}\n",
    "\n",
    "tokenizer = MaxScoreTokenizer(scores=scores)\n",
    "tokenizer.tokenize('파스타가좋아요')"
   ]
  },
  {
   "cell_type": "code",
   "execution_count": 6,
   "metadata": {},
   "outputs": [
    {
     "name": "stdout",
     "output_type": "stream",
     "text": [
      "flatten=False\n",
      "[[('난', 0, 1, 0.0, 1), ('파스타', 1, 4, 0.7, 3), ('가', 4, 5, 0.0, 1)],\n",
      " [('좋아', 0, 2, 0.5, 2), ('요', 2, 3, 0.0, 1)]]\n",
      "\n",
      "flatten=True\n",
      "['난', '파스타', '가', '좋아', '요']\n"
     ]
    }
   ],
   "source": [
    "print('flatten=False')\n",
    "pprint(tokenizer.tokenize('난파스타가 좋아요', flatten=False))\n",
    "\n",
    "print('\\nflatten=True')\n",
    "pprint(tokenizer.tokenize('난파스타가 좋아요'))"
   ]
  },
  {
   "cell_type": "markdown",
   "metadata": {},
   "source": [
    "### LTokenizer"
   ]
  },
  {
   "cell_type": "code",
   "execution_count": 10,
   "metadata": {},
   "outputs": [
    {
     "name": "stdout",
     "output_type": "stream",
     "text": [
      "\n",
      "faltten=True\n",
      "sent = 데이터마이닝을 공부한다\n",
      "['데이터마이닝', '을', '공부', '한다']\n",
      "\n",
      "faltten=False\n",
      "sent = 데이터마이닝을 공부한다\n",
      "[('데이터마이닝', '을'), ('공부', '한다')]\n",
      "\n",
      "faltten=True\n",
      "sent = 데이터분석을 위해서 데이터마이닝을 공부한다\n",
      "['데이터', '분석을', '위해서', '데이터마이닝', '을', '공부', '한다']\n",
      "\n",
      "faltten=False\n",
      "sent = 데이터분석을 위해서 데이터마이닝을 공부한다\n",
      "[('데이터', '분석을'), ('위해서', ''), ('데이터마이닝', '을'), ('공부', '한다')]\n"
     ]
    }
   ],
   "source": [
    "scores = {'데이': 0.5, '데이터': 0.5, '데이터마이닝': 0.5, '공부': 0.5, '공부중': 0.45}\n",
    "\n",
    "tokenizer = LTokenizer(scores=scores)\n",
    "\n",
    "print('\\nfaltten=True\\nsent = 데이터마이닝을 공부한다')\n",
    "print(tokenizer.tokenize('데이터마이닝을 공부한다'))\n",
    "\n",
    "print('\\nfaltten=False\\nsent = 데이터마이닝을 공부한다')\n",
    "print(tokenizer.tokenize('데이터마이닝을 공부한다', flatten=False))\n",
    "\n",
    "print('\\nfaltten=True\\nsent = 데이터분석을 위해서 데이터마이닝을 공부한다')\n",
    "print(tokenizer.tokenize('데이터분석을 위해서 데이터마이닝을 공부한다'))\n",
    "\n",
    "print('\\nfaltten=False\\nsent = 데이터분석을 위해서 데이터마이닝을 공부한다')\n",
    "print(tokenizer.tokenize('데이터분석을 위해서 데이터마이닝을 공부한다', flatten=False))"
   ]
  },
  {
   "cell_type": "code",
   "execution_count": 11,
   "metadata": {},
   "outputs": [
    {
     "name": "stdout",
     "output_type": "stream",
     "text": [
      "tolerance=0.0\n",
      "sent = 데이터마이닝을 공부중이다\n",
      "['데이터마이닝', '을', '공부', '중이다']\n",
      "\n",
      "tolerance=0.1\n",
      "sent = 데이터마이닝을 공부중이다\n",
      "['데이터마이닝', '을', '공부중', '이다']\n"
     ]
    }
   ],
   "source": [
    "print('tolerance=0.0\\nsent = 데이터마이닝을 공부중이다')\n",
    "print(tokenizer.tokenize('데이터마이닝을 공부중이다'))\n",
    "\n",
    "print('\\ntolerance=0.1\\nsent = 데이터마이닝을 공부중이다')\n",
    "print(tokenizer.tokenize('데이터마이닝을 공부중이다', tolerance=0.1))"
   ]
  },
  {
   "cell_type": "markdown",
   "metadata": {},
   "source": [
    "### RegexTokenizer"
   ]
  },
  {
   "cell_type": "code",
   "execution_count": 12,
   "metadata": {},
   "outputs": [
    {
     "name": "stdout",
     "output_type": "stream",
     "text": [
      "   이렇게연속된문장은잘리지않습니다만\n",
      "->['이렇게연속된문장은잘리지않습니다만']\n",
      "\n",
      "   숫자123이영어abc에섞여있으면ㅋㅋ잘리겠죠\n",
      "->['숫자', '123', '이영어', 'abc', '에섞여있으면', 'ㅋㅋ', '잘리겠죠']\n",
      "\n",
      "   띄어쓰기가 포함되어있으면 이정보는10점!꼭띄워야죠\n",
      "->['띄어쓰기가', '포함되어있으면', '이정보는', '10', '점', '!', '꼭띄워야죠']\n",
      "\n"
     ]
    }
   ],
   "source": [
    "tokenizer = RegexTokenizer()\n",
    "\n",
    "sents = [\n",
    "    '이렇게연속된문장은잘리지않습니다만',\n",
    "    '숫자123이영어abc에섞여있으면ㅋㅋ잘리겠죠',\n",
    "    '띄어쓰기가 포함되어있으면 이정보는10점!꼭띄워야죠'\n",
    "]\n",
    "\n",
    "for sent in sents:\n",
    "    print('   %s\\n->%s\\n' % (sent, tokenizer.tokenize(sent)))"
   ]
  },
  {
   "cell_type": "code",
   "execution_count": 13,
   "metadata": {},
   "outputs": [
    {
     "data": {
      "text/plain": [
       "[['띄어쓰기가'], ['포함되어있으면'], ['이정보는', '10', '점', '!', '꼭띄워야죠']]"
      ]
     },
     "execution_count": 13,
     "metadata": {},
     "output_type": "execute_result"
    }
   ],
   "source": [
    "tokenizer.tokenize('띄어쓰기가 포함되어있으면 이정보는10점!꼭띄워야죠',flatten=False)"
   ]
  },
  {
   "cell_type": "code",
   "execution_count": null,
   "metadata": {
    "collapsed": true
   },
   "outputs": [],
   "source": []
  }
 ],
 "metadata": {
  "kernelspec": {
   "display_name": "Python 3",
   "language": "python",
   "name": "python3"
  },
  "language_info": {
   "codemirror_mode": {
    "name": "ipython",
    "version": 3
   },
   "file_extension": ".py",
   "mimetype": "text/x-python",
   "name": "python",
   "nbconvert_exporter": "python",
   "pygments_lexer": "ipython3",
   "version": "3.5.2"
  }
 },
 "nbformat": 4,
 "nbformat_minor": 2
}
