{
 "cells": [
  {
   "cell_type": "markdown",
   "metadata": {},
   "source": [
    "### LRNounExtractor"
   ]
  },
  {
   "cell_type": "code",
   "execution_count": 2,
   "metadata": {},
   "outputs": [
    {
     "name": "stdout",
     "output_type": "stream",
     "text": [
      "used default noun predictor; Sejong corpus predictor\n",
      "used noun_predictor_sejong\n",
      "2398 r features was loaded\n"
     ]
    }
   ],
   "source": [
    "from soynlp.noun import LRNounExtractor\n",
    "\n",
    "noun_extractor = LRNounExtractor(l_max_length=10,\n",
    "                                 r_max_length=7,\n",
    "                                 predictor_fnames=None,\n",
    "                                 verbose=True)"
   ]
  },
  {
   "cell_type": "code",
   "execution_count": 5,
   "metadata": {},
   "outputs": [],
   "source": [
    "# 데이터는 인터넷에서 크롤링해온것\n",
    "import pandas as pd\n",
    "data = pd.read_csv('data/sample.csv', header=0, encoding='CP949')"
   ]
  },
  {
   "cell_type": "code",
   "execution_count": 6,
   "metadata": {
    "collapsed": true
   },
   "outputs": [],
   "source": [
    "data['comments'].to_csv('data/sample.txt', index=False, header=False, encoding='utf-8')"
   ]
  },
  {
   "cell_type": "code",
   "execution_count": 7,
   "metadata": {},
   "outputs": [
    {
     "data": {
      "text/plain": [
       "44714"
      ]
     },
     "execution_count": 7,
     "metadata": {},
     "output_type": "execute_result"
    }
   ],
   "source": [
    "from soynlp.utils import DoublespaceLineCorpus\n",
    "\n",
    "corpus_fname = 'data/sample.txt'\n",
    "sentences = DoublespaceLineCorpus(corpus_fname, iter_sent=True)\n",
    "len(sentences)"
   ]
  },
  {
   "cell_type": "code",
   "execution_count": 8,
   "metadata": {},
   "outputs": [
    {
     "name": "stdout",
     "output_type": "stream",
     "text": [
      "scanning completed\n",
      "(L,R) has (28617, 16165) tokens\n",
      "building lr-graph completednum nouns = 8218\n",
      "CPU times: user 4.42 s, sys: 30 ms, total: 4.45 s\n",
      "Wall time: 4.46 s\n"
     ]
    }
   ],
   "source": [
    "%%time\n",
    "nouns = noun_extractor.train_extract(sentences, minimum_noun_score=0.3, min_count=100)\n",
    "print('num nouns = %d' % len(nouns))"
   ]
  },
  {
   "cell_type": "code",
   "execution_count": 11,
   "metadata": {},
   "outputs": [
    {
     "data": {
      "text/plain": [
       "NounScore(frequency=41, score=0.5539323333333334, known_r_ratio=0.6)"
      ]
     },
     "execution_count": 11,
     "metadata": {},
     "output_type": "execute_result"
    }
   ],
   "source": [
    "nouns['웰메이드']"
   ]
  },
  {
   "cell_type": "code",
   "execution_count": 15,
   "metadata": {
    "scrolled": true
   },
   "outputs": [
    {
     "name": "stdout",
     "output_type": "stream",
     "text": [
      "웰메이드 is noun? True\n",
      "송혜교 is noun? True\n",
      "리암니슨 is noun? True\n",
      "웃음코드 is noun? True\n",
      "커플들 is noun? True\n",
      "정형화 is noun? True\n"
     ]
    }
   ],
   "source": [
    "words = ['웰메이드', '송혜교', '리암니슨', '웃음코드', '커플들', '정형화']\n",
    "for word in words:\n",
    "    print('%s is noun? %r' % (word, word in nouns))"
   ]
  },
  {
   "cell_type": "code",
   "execution_count": 16,
   "metadata": {
    "scrolled": true
   },
   "outputs": [
    {
     "data": {
      "text/plain": [
       "True"
      ]
     },
     "execution_count": 16,
     "metadata": {},
     "output_type": "execute_result"
    }
   ],
   "source": [
    "noun_extractor.is_noun('손예진', minimum_noun_score=0.3)"
   ]
  },
  {
   "cell_type": "code",
   "execution_count": 17,
   "metadata": {},
   "outputs": [
    {
     "name": "stdout",
     "output_type": "stream",
     "text": [
      "송혜교: (score=0.731, frequency=119)\n",
      "손예진: (score=0.848, frequency=133)\n",
      "웰메이드: (score=0.554, frequency=41)\n",
      "리암니슨: (score=0.900, frequency=56)\n",
      "정형화: (score=1.000, frequency=5)\n",
      "웃음코드: (score=0.795, frequency=23)\n",
      "커플들: (score=1.000, frequency=6)\n"
     ]
    }
   ],
   "source": [
    "words = ['웰메이드', '송혜교', '리암니슨', '웃음코드', '커플들', '정형화', '손예진']\n",
    "\n",
    "nouns_ = noun_extractor.extract(\n",
    "    minimum_noun_score=0.3, \n",
    "    min_count=100,\n",
    "    noun_candidates=words)\n",
    "\n",
    "for word, score in nouns_.items():\n",
    "    print('%s: (score=%.3f, frequency=%d)' \n",
    "          % (word, score.score, score.frequency))"
   ]
  },
  {
   "cell_type": "code",
   "execution_count": 34,
   "metadata": {},
   "outputs": [
    {
     "name": "stdout",
     "output_type": "stream",
     "text": [
      "\n",
      "    영화 (0.59)    재미 (0.67)    연기 (0.66)    생각 (0.87)\n",
      "    정말 (0.98)    기대 (0.95)    보고 (0.43)    사람 (0.61)\n",
      "    배우 (0.66)    감동 (0.75)    지루 (0.99)    최고 (0.74)\n",
      "   스토리 (0.65)    시간 (0.78)    감독 (0.86)    내용 (0.67)\n",
      "    평점 (0.74)    느낌 (0.83)    진짜 (0.81)    사랑 (0.84)\n",
      "    우리 (0.71)    인간 (0.86)   배우들 (0.91)    볼만 (0.90)\n",
      "    ㅋㅋ (1.00)    작품 (0.77)   봤는데 (0.44)    많이 (0.67)\n",
      "    좋아 (0.57)   이야기 (0.80)    몰입 (0.80)    장면 (0.73)\n",
      "    대한 (1.00)    하지 (0.93)   마지막 (0.88)    액션 (0.69)\n",
      "    한국 (0.78)    이해 (0.95)   사람들 (0.66)    그래 (0.33)\n",
      "    현실 (0.79)    아이 (0.71)   그리고 (0.38)    하나 (0.72)\n",
      "    연출 (0.77)    완전 (1.00)    음악 (0.74)    정도 (0.74)\n",
      "    아닌 (0.38)    진실 (0.58)    가족 (0.84)    마음 (0.85)\n",
      "    긴장 (0.82)    조금 (0.53)    전개 (0.76)    소재 (0.74)\n",
      "    주인 (0.75)    처음 (0.96)   주인공 (0.83)    가슴 (0.94)\n",
      "   이렇게 (0.72)    눈물 (0.79)    지금 (0.65)    봐야 (0.47)\n",
      "    아름 (1.00)    이상 (0.85)   ㅋㅋㅋ (0.35)    보기 (0.86)\n",
      "    흥미 (0.95)    나름 (1.00)    보다 (0.54)    매력 (0.69)\n",
      "    하고 (0.51)    모습 (0.70)    표현 (0.95)    한번 (0.44)\n",
      "    결말 (0.78)    반전 (0.73)    기억 (0.92)    잔잔 (1.00)\n",
      "    부분 (0.71)   긴장감 (0.68)    상상 (0.80)    추천 (0.90)\n",
      "    모두 (0.92)   연기력 (0.72)    영상 (0.76)    실망 (0.92)\n",
      "    ㅎㅎ (0.80)    없고 (0.67)    명량 (0.79)    부족 (0.99)\n",
      "    공포 (0.75)    가장 (0.98)    알바 (0.64)    봤다 (0.46)\n",
      "    이건 (0.87)    여자 (0.74)   이영화 (0.64)    인생 (0.72)"
     ]
    }
   ],
   "source": [
    "top100 = sorted(nouns.items(), \n",
    "    key=lambda x:-x[1].frequency)[:100]\n",
    "top100\n",
    "for i, (word, score) in enumerate(top100):\n",
    "    if i % 4 == 0:\n",
    "        print()\n",
    "    print('%6s (%.2f)' % (word, score.score), end='')"
   ]
  },
  {
   "cell_type": "code",
   "execution_count": 35,
   "metadata": {},
   "outputs": [
    {
     "name": "stdout",
     "output_type": "stream",
     "text": [
      "\n",
      "    영화 (0.59)    생각 (0.87)    재미 (0.67)    정말 (0.98)\n",
      "    연기 (0.66)    기대 (0.95)    지루 (0.99)    감동 (0.75)\n",
      "    최고 (0.74)    배우 (0.66)    사람 (0.61)    감독 (0.86)\n",
      "    시간 (0.78)   스토리 (0.65)    ㅋㅋ (1.00)    느낌 (0.83)\n",
      "    진짜 (0.81)   배우들 (0.91)    사랑 (0.84)    평점 (0.74)\n",
      "    볼만 (0.90)    인간 (0.86)    내용 (0.67)    대한 (1.00)\n",
      "    보고 (0.43)    우리 (0.71)    하지 (0.93)    작품 (0.77)\n",
      "   이야기 (0.80)    이해 (0.95)   마지막 (0.88)    몰입 (0.80)\n",
      "    완전 (1.00)    많이 (0.67)    장면 (0.73)    한국 (0.78)\n",
      "    현실 (0.79)    액션 (0.69)    가족 (0.84)    마음 (0.85)\n",
      "    연출 (0.77)    처음 (0.96)    좋아 (0.57)    아름 (1.00)\n",
      "    가슴 (0.94)    하나 (0.72)    아이 (0.71)   사람들 (0.66)\n",
      "    나름 (1.00)    음악 (0.74)    긴장 (0.82)    정도 (0.74)\n",
      "    흥미 (0.95)   주인공 (0.83)    잔잔 (1.00)    표현 (0.95)\n",
      "    보기 (0.86)    이상 (0.85)    전개 (0.76)    기억 (0.92)\n",
      "    주인 (0.75)    눈물 (0.79)    소재 (0.74)    부족 (0.99)\n",
      "   봤는데 (0.44)    가장 (0.98)    모두 (0.92)    추천 (0.90)\n",
      "    실망 (0.92)   이렇게 (0.72)    필요 (0.95)    중간 (0.96)\n",
      "    대단 (1.00)    때문 (0.99)    진실 (0.58)    이순 (1.00)\n",
      "    결말 (0.78)   감동적 (1.00)    이건 (0.87)    우주 (0.92)\n",
      "    상상 (0.80)    ㅎㅎ (0.80)    지금 (0.65)    여운 (0.88)\n",
      "    반전 (0.73)    억지 (0.96)    매력 (0.69)    솔직 (1.00)\n",
      "    모습 (0.70)    명량 (0.79)    영상 (0.76)    훌륭 (0.99)\n",
      "    전혀 (1.00)    부분 (0.71)    충분 (1.00)    유치 (0.99)\n",
      "   연기력 (0.72)    잔인 (0.99)    공포 (0.75)    뭔가 (0.76)"
     ]
    }
   ],
   "source": [
    "top100 = sorted(nouns.items(), \n",
    "    key=lambda x:-x[1].frequency * x[1].score)[:100]\n",
    "\n",
    "for i, (word, score) in enumerate(top100):\n",
    "    if i % 4 == 0:\n",
    "        print()\n",
    "    print('%6s (%.2f)' % (word, score.score), end='')"
   ]
  },
  {
   "cell_type": "markdown",
   "metadata": {},
   "source": [
    "### NewsNounExtractor"
   ]
  },
  {
   "cell_type": "code",
   "execution_count": 36,
   "metadata": {},
   "outputs": [
    {
     "name": "stdout",
     "output_type": "stream",
     "text": [
      "used default noun predictor; Sejong corpus based logistic predictor\n"
     ]
    }
   ],
   "source": [
    "from soynlp.noun import NewsNounExtractor\n",
    "\n",
    "noun_extractor = NewsNounExtractor(l_max_length=10,\n",
    "                                   r_max_length=7,\n",
    "                                   predictor_fnames=None,\n",
    "                                   verbose=True)"
   ]
  },
  {
   "cell_type": "code",
   "execution_count": 37,
   "metadata": {},
   "outputs": [
    {
     "name": "stdout",
     "output_type": "stream",
     "text": [
      "scan vocabulary ... done (Lset, Rset, Eojeol) = (324104, 192878, 155115)\n",
      "extracted 774 nouns using verb/adjective dictionaryy ... 9000 / 9730\n",
      "predicting noun score ... done0 / 45500\n",
      "finding NJsubJ (대학생(으)+로), NsubJ (떡볶+(이)), NVsubE (사기(당)+했다) ... done\n",
      "checking hardrules ... done0 / 12749\n",
      "extracted 51 compounds from eojeolss ... 9000 / 9730\n"
     ]
    }
   ],
   "source": [
    "nouns = noun_extractor.train_extract(sentences)"
   ]
  },
  {
   "cell_type": "code",
   "execution_count": 38,
   "metadata": {},
   "outputs": [
    {
     "name": "stdout",
     "output_type": "stream",
     "text": [
      "웰메이드: (score=0.554, frequency=41)\n",
      "송혜교: (score=0.731, frequency=119)\n",
      "리암니슨: (score=0.900, frequency=56)\n",
      "웃음코드: (score=0.795, frequency=23)\n",
      "커플들: (score=1.000, frequency=6)\n",
      "손예진: (score=0.848, frequency=132)\n"
     ]
    }
   ],
   "source": [
    "words = ['웰메이드', '송혜교', '리암니슨', '웃음코드', '커플들', '정형화', '손예진']\n",
    "\n",
    "for word in words:\n",
    "    if not word in nouns:\n",
    "        continue\n",
    "    score = nouns[word]\n",
    "    print('%s: (score=%.3f, frequency=%d)' \n",
    "          % (word, score.score, score.frequency))"
   ]
  },
  {
   "cell_type": "code",
   "execution_count": null,
   "metadata": {
    "collapsed": true
   },
   "outputs": [],
   "source": []
  }
 ],
 "metadata": {
  "kernelspec": {
   "display_name": "Python 3",
   "language": "python",
   "name": "python3"
  },
  "language_info": {
   "codemirror_mode": {
    "name": "ipython",
    "version": 3
   },
   "file_extension": ".py",
   "mimetype": "text/x-python",
   "name": "python",
   "nbconvert_exporter": "python",
   "pygments_lexer": "ipython3",
   "version": "3.5.2"
  }
 },
 "nbformat": 4,
 "nbformat_minor": 2
}
